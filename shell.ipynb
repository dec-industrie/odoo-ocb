{
 "cells": [
  {
   "cell_type": "code",
   "execution_count": 2,
   "metadata": {},
   "outputs": [
    {
     "name": "stderr",
     "output_type": "stream",
     "text": [
      "2020-09-06 16:12:22,682 719 INFO ? odoo.modules.module: Add /home/ypa/.local/share/Odoo/addons/12.0 to addons_path (data_dir) \n",
      "2020-09-06 16:12:22,684 719 INFO ? odoo.modules.module: Add /media/data/ypa/projects/12.0/_/addons to addons_path \n",
      "2020-09-06 16:12:22,685 719 INFO ? odoo.modules.module: Add /media/data/ypa/projects/12.0/addons to addons_path \n",
      "2020-09-06 16:12:22,686 719 INFO ? odoo.modules.module: Add /media/data/ypa/projects/12.0/addons-dec to addons_path \n",
      "2020-09-06 16:12:22,687 719 INFO ? odoo.modules.module: Add /media/data/ypa/projects/12.0/addons-aeroo to addons_path \n",
      "2020-09-06 16:12:22,688 719 INFO ? odoo.modules.module: Add /media/data/ypa/projects/12.0/addons-odoo-appstore to addons_path \n",
      "2020-09-06 16:12:22,688 719 INFO ? odoo.modules.module: Add /media/data/ypa/projects/12.0/addons-oca/account-financial-tools to addons_path \n",
      "2020-09-06 16:12:22,689 719 INFO ? odoo.modules.module: Add /media/data/ypa/projects/12.0/addons-oca/crm to addons_path \n",
      "2020-09-06 16:12:22,690 719 INFO ? odoo.modules.module: Add /media/data/ypa/projects/12.0/addons-oca/stock-logistics-warehouse to addons_path \n",
      "2020-09-06 16:12:22,691 719 INFO ? odoo.modules.module: Add /media/data/ypa/projects/12.0/addons-oca/manufacture to addons_path \n",
      "2020-09-06 16:12:22,691 719 INFO ? odoo.modules.module: Add /media/data/ypa/projects/12.0/addons-oca/partner-contact to addons_path \n",
      "2020-09-06 16:12:22,692 719 INFO ? odoo.modules.module: Add /media/data/ypa/projects/12.0/addons-oca/server-tools to addons_path \n",
      "2020-09-06 16:12:22,693 719 INFO ? odoo.modules.module: Add /media/data/ypa/projects/12.0/addons-oca/server-ux to addons_path \n",
      "2020-09-06 16:12:22,693 719 INFO ? odoo.modules.module: Add /media/data/ypa/projects/12.0/addons-oca/server-auth to addons_path \n",
      "2020-09-06 16:12:22,694 719 INFO ? odoo.modules.module: Add /media/data/ypa/projects/12.0/addons-oca/product-attribute to addons_path \n",
      "2020-09-06 16:12:22,695 719 INFO ? odoo.modules.module: Add /media/data/ypa/projects/12.0/addons-oca/product-pack to addons_path \n",
      "2020-09-06 16:12:22,695 719 INFO ? odoo.modules.module: Add /media/data/ypa/projects/12.0/addons-oca/web to addons_path \n",
      "2020-09-06 16:12:22,696 719 INFO ? odoo.modules.module: Add /media/data/ypa/projects/12.0/addons-oca/server-brand to addons_path \n",
      "2020-09-06 16:12:22,697 719 INFO ? odoo.modules.module: Add /media/data/ypa/projects/12.0/addons-oca/project to addons_path \n",
      "2020-09-06 16:12:22,697 719 INFO ? odoo.modules.module: Add /media/data/ypa/projects/12.0/addons-oca/project-reporting to addons_path \n",
      "2020-09-06 16:12:22,698 719 INFO ? odoo.modules.module: Add /media/data/ypa/projects/12.0/addons-oca/purchase-workflow to addons_path \n",
      "2020-09-06 16:12:22,699 719 INFO ? odoo.modules.module: Add /media/data/ypa/projects/12.0/addons-oca/sale-workflow to addons_path \n",
      "2020-09-06 16:12:22,700 719 INFO ? odoo.modules.module: Add /media/data/ypa/projects/12.0/addons-oca/stock-logistics-workflow to addons_path \n",
      "2020-09-06 16:12:22,700 719 INFO ? odoo.modules.module: Add /media/data/ypa/projects/12.0/addons-oca/knowledge to addons_path \n",
      "2020-09-06 16:12:22,701 719 INFO ? odoo.modules.module: Add /media/data/ypa/projects/12.0/addons-oca/management-system to addons_path \n",
      "2020-09-06 16:12:22,702 719 INFO ? odoo.modules.module: Add /media/data/ypa/projects/12.0/addons-oca/helpdesk to addons_path \n",
      "2020-09-06 16:12:22,702 719 INFO ? odoo.modules.module: Add /media/data/ypa/projects/12.0/addons-oca/timesheet to addons_path \n",
      "2020-09-06 16:12:22,703 719 INFO ? odoo.modules.module: Add /media/data/ypa/projects/12.0/addons-oca/storage to addons_path \n",
      "2020-09-06 16:12:22,704 719 INFO ? odoo.modules.module: Add /media/data/ypa/projects/12.0/addons-oca/hr to addons_path \n",
      "2020-09-06 16:12:22,704 719 INFO ? odoo.modules.module: Add /media/data/ypa/projects/12.0/addons-oca/hr-timesheet to addons_path \n",
      "2020-09-06 16:12:22,705 719 INFO ? odoo.modules.module: Add /media/data/ypa/projects/12.0/addons-oca/social to addons_path \n",
      "2020-09-06 16:12:22,706 719 INFO ? odoo.modules.module: Add /media/data/ypa/projects/12.0/addons-oca/queue to addons_path \n",
      "2020-09-06 16:12:22,706 719 INFO ? odoo.modules.module: Add /media/data/ypa/projects/12.0/addons-oca/reporting-engine to addons_path \n",
      "2020-09-06 16:12:22,707 719 INFO ? odoo.modules.module: Add /media/data/ypa/projects/12.0/addons-oca/maintenance to addons_path \n",
      "2020-09-06 16:12:22,708 719 INFO ? odoo.modules.module: Add /media/data/ypa/projects/12.0/addons-oca/e-commerce to addons_path \n",
      "2020-09-06 16:12:22,708 719 INFO ? odoo.modules.module: Add /media/data/ypa/projects/12.0/addons-itpp/misc to addons_path \n",
      "2020-09-06 16:12:22,709 719 INFO ? odoo.modules.module: Add /media/data/ypa/projects/12.0/OCB/odoo/addons to addons_path (base_path) \n",
      "2020-09-06 16:12:22,710 719 INFO ? odoo: Odoo version 12.0 \n",
      "2020-09-06 16:12:22,711 719 INFO ? odoo: Using configuration file at /media/data/ypa/migration/confs/openerp-server-ocb12.conf \n",
      "2020-09-06 16:12:22,711 719 INFO ? odoo: addons paths: ['/home/ypa/.local/share/Odoo/addons/12.0', '/media/data/ypa/projects/12.0/_/addons', '/media/data/ypa/projects/12.0/addons', '/media/data/ypa/projects/12.0/addons-dec', '/media/data/ypa/projects/12.0/addons-aeroo', '/media/data/ypa/projects/12.0/addons-odoo-appstore', '/media/data/ypa/projects/12.0/addons-oca/account-financial-tools', '/media/data/ypa/projects/12.0/addons-oca/crm', '/media/data/ypa/projects/12.0/addons-oca/stock-logistics-warehouse', '/media/data/ypa/projects/12.0/addons-oca/manufacture', '/media/data/ypa/projects/12.0/addons-oca/partner-contact', '/media/data/ypa/projects/12.0/addons-oca/server-tools', '/media/data/ypa/projects/12.0/addons-oca/server-ux', '/media/data/ypa/projects/12.0/addons-oca/server-auth', '/media/data/ypa/projects/12.0/addons-oca/product-attribute', '/media/data/ypa/projects/12.0/addons-oca/product-pack', '/media/data/ypa/projects/12.0/addons-oca/web', '/media/data/ypa/projects/12.0/addons-oca/server-brand', '/media/data/ypa/projects/12.0/addons-oca/project', '/media/data/ypa/projects/12.0/addons-oca/project-reporting', '/media/data/ypa/projects/12.0/addons-oca/purchase-workflow', '/media/data/ypa/projects/12.0/addons-oca/sale-workflow', '/media/data/ypa/projects/12.0/addons-oca/stock-logistics-workflow', '/media/data/ypa/projects/12.0/addons-oca/knowledge', '/media/data/ypa/projects/12.0/addons-oca/management-system', '/media/data/ypa/projects/12.0/addons-oca/helpdesk', '/media/data/ypa/projects/12.0/addons-oca/timesheet', '/media/data/ypa/projects/12.0/addons-oca/storage', '/media/data/ypa/projects/12.0/addons-oca/hr', '/media/data/ypa/projects/12.0/addons-oca/hr-timesheet', '/media/data/ypa/projects/12.0/addons-oca/social', '/media/data/ypa/projects/12.0/addons-oca/queue', '/media/data/ypa/projects/12.0/addons-oca/reporting-engine', '/media/data/ypa/projects/12.0/addons-oca/maintenance', '/media/data/ypa/projects/12.0/addons-oca/e-commerce', '/media/data/ypa/projects/12.0/addons-itpp/misc', '/media/data/ypa/projects/12.0/OCB/odoo/addons'] \n",
      "2020-09-06 16:12:22,713 719 INFO ? odoo: database: openerp@default:default \n",
      "2020-09-06 16:12:22,872 719 INFO ? odoo.addons.base.models.ir_actions_report: Will use the Wkhtmltopdf binary at /usr/bin/wkhtmltopdf \n",
      "2020-09-06 16:12:23,020 719 INFO ? odoo.service.server: Initiating shutdown \n",
      "2020-09-06 16:12:23,020 719 INFO ? odoo.service.server: Hit CTRL-C again or send a second signal to force the shutdown. \n",
      "2020-09-06 16:12:23,034 719 INFO dec_database_10008 odoo.modules.loading: loading 1 modules... \n",
      "2020-09-06 16:12:23,053 719 INFO dec_database_10008 odoo.modules.loading: 1 modules loaded in 0.02s, 0 queries \n",
      "2020-09-06 16:12:23,414 719 INFO dec_database_10008 odoo.modules.loading: loading 218 modules... \n",
      "2020-09-06 16:12:24,961 719 INFO dec_database_10008 odoo.modules.loading: 218 modules loaded in 1.55s, 0 queries \n",
      "2020-09-06 16:12:26,056 719 INFO dec_database_10008 odoo.modules.loading: Modules loaded. \n"
     ]
    },
    {
     "name": "stdout",
     "output_type": "stream",
     "text": [
      "Ready\n"
     ]
    }
   ],
   "source": [
    "import os\n",
    "import signal\n",
    "\n",
    "import odoo\n",
    "from odoo.tools import config\n",
    "\n",
    "args = [\n",
    "    '--config=/media/data/ypa/migration/confs/openerp-server-ocb12.conf', \n",
    "    '--max-cron-threads=0', \n",
    "    '--longpolling-port=0', \n",
    "    '--workers=0', \n",
    "    '--limit-time-real=100000', \n",
    "    '--database=dec_database_10008', \n",
    "    '--limit-memory-hard=8589934592',\n",
    "]\n",
    "\n",
    "if 'env' in globals():\n",
    "    env.cr.close()\n",
    "    stop()\n",
    "\n",
    "def stop():\n",
    "    odoo.phoenix = None\n",
    "    if odoo.service.server.server:\n",
    "        odoo.service.server.server.stop()\n",
    "        os.kill(odoo.service.server.server.pid, signal.SIGKILL)\n",
    "        \n",
    "def start(args):\n",
    "    config.parse_config(args)\n",
    "    odoo.cli.server.report_configuration()\n",
    "    odoo.service.server.start(preload=[], stop=True)\n",
    "\n",
    "start(args)\n",
    "\n",
    "dbname = config['db_name']\n",
    "with odoo.api.Environment.manage():\n",
    "    if dbname:\n",
    "        registry = odoo.registry(dbname)\n",
    "        cr = registry.cursor()\n",
    "        uid = odoo.SUPERUSER_ID\n",
    "        ctx = odoo.api.Environment(cr, uid, {})['res.users'].context_get()\n",
    "        env = odoo.api.Environment(cr, uid, ctx)\n",
    "        user = env.user\n",
    "        cr.rollback()\n",
    "\n",
    "odoo.api.Environment.reset()\n",
    "print('Ready')"
   ]
  },
  {
   "cell_type": "code",
   "execution_count": 6,
   "metadata": {},
   "outputs": [],
   "source": []
  },
  {
   "cell_type": "code",
   "execution_count": 11,
   "metadata": {},
   "outputs": [
    {
     "name": "stderr",
     "output_type": "stream",
     "text": [
      "2020-09-06 16:51:02,130 719 INFO dec_database_10008 odoo.addons.stock.models.stock_move: Execute _action_done on [317438] \n",
      "2020-09-06 16:51:02,131 719 INFO dec_database_10008 odoo.addons.stock.models.stock_move: Execute _action_confirm on [] \n"
     ]
    },
    {
     "name": "stdout",
     "output_type": "stream",
     "text": [
      "assigned\n"
     ]
    },
    {
     "name": "stderr",
     "output_type": "stream",
     "text": [
      "2020-09-06 16:51:02,388 719 INFO dec_database_10008 odoo.addons.stock_traceability.models.stock_move: State of move 317438 for product [00472] COLLIER FIX.MRL INOX D25 P40 set to done \n",
      "2020-09-06 16:51:02,599 719 INFO dec_database_10008 odoo.addons.stock.models.stock_move: Execute _action_assign on [317259] \n",
      "2020-09-06 16:51:02,637 719 INFO dec_database_10008 odoo.addons.stock.models.stock_move: Execute _action_assign on [] \n"
     ]
    },
    {
     "name": "stdout",
     "output_type": "stream",
     "text": [
      "done\n"
     ]
    }
   ],
   "source": [
    "bl = env['stock.picking'].browse(41081)\n",
    "print(bl.state)\n",
    "\n",
    "#bl.action_assign()\n",
    "#bl.action_confirm()\n",
    "bl.action_done()\n",
    "print(bl.state)\n",
    "\n",
    "\n",
    "env.cr.commit()"
   ]
  },
  {
   "cell_type": "code",
   "execution_count": 3,
   "metadata": {},
   "outputs": [
    {
     "name": "stdout",
     "output_type": "stream",
     "text": [
      "_compute_production_ids\n",
      "_get_external_ids\n",
      "_get_xml_ids\n",
      "_ids\n",
      "activity_ids\n",
      "backorder_ids\n",
      "ids\n",
      "invoice_ids\n",
      "message_channel_ids\n",
      "message_follower_ids\n",
      "message_ids\n",
      "message_partner_ids\n",
      "move_ids_without_package\n",
      "move_line_ids\n",
      "move_line_ids_without_package\n",
      "package_ids\n",
      "package_level_ids\n",
      "package_level_ids_details\n",
      "production_ids\n",
      "website_message_ids\n",
      "_get_message_needaction\n",
      "_needaction\n",
      "_notify_get_action_link\n",
      "_search_message_needaction\n",
      "action_assign\n",
      "action_assign_owner\n",
      "action_assign_partner\n",
      "action_cancel\n",
      "action_confirm\n",
      "action_done\n",
      "action_generate_backorder_wizard\n",
      "action_picking_move_tree\n",
      "action_see_move_scrap\n",
      "action_see_packages\n",
      "action_send_confirmation_email\n",
      "action_toggle_is_locked\n",
      "action_view_invoice\n",
      "action_view_purchase_order\n",
      "action_view_sale_order\n",
      "get_access_action\n",
      "get_formview_action\n",
      "message_needaction\n",
      "message_needaction_counter\n"
     ]
    }
   ],
   "source": [
    "for item in dir(bl):\n",
    "    if 'ids' in item:\n",
    "        print(item)\n",
    "for item in dir(bl):\n",
    "    if 'action' in item:\n",
    "        print(item)"
   ]
  },
  {
   "cell_type": "code",
   "execution_count": 54,
   "metadata": {},
   "outputs": [
    {
     "data": {
      "text/plain": [
       "'MO/200018'"
      ]
     },
     "execution_count": 54,
     "metadata": {},
     "output_type": "execute_result"
    }
   ],
   "source": [
    "bl.production_ids.name"
   ]
  },
  {
   "cell_type": "code",
   "execution_count": 58,
   "metadata": {},
   "outputs": [
    {
     "data": {
      "text/plain": [
       "'[005104] ENCASTREMENT TABLEAU 2 RANGEES'"
      ]
     },
     "execution_count": 58,
     "metadata": {},
     "output_type": "execute_result"
    }
   ],
   "source": [
    "\n",
    "bl.move_line_ids.product_id.display_name"
   ]
  },
  {
   "cell_type": "code",
   "execution_count": 4,
   "metadata": {},
   "outputs": [
    {
     "data": {
      "text/plain": [
       "True"
      ]
     },
     "execution_count": 4,
     "metadata": {},
     "output_type": "execute_result"
    }
   ],
   "source": [
    "'env' in locals()"
   ]
  }
 ],
 "metadata": {
  "kernelspec": {
   "display_name": "Python 3.6.10 64-bit ('.venv': virtualenv)",
   "language": "python",
   "name": "python361064bitvenvvirtualenv5058e499617349ff8ac058ec1c42b641"
  },
  "language_info": {
   "codemirror_mode": {
    "name": "ipython",
    "version": 3
   },
   "file_extension": ".py",
   "mimetype": "text/x-python",
   "name": "python",
   "nbconvert_exporter": "python",
   "pygments_lexer": "ipython3",
   "version": "3.6.10"
  }
 },
 "nbformat": 4,
 "nbformat_minor": 4
}
